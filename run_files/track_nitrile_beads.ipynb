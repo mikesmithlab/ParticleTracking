{
 "cells": [
  {
   "cell_type": "code",
   "execution_count": 1,
   "metadata": {},
   "outputs": [],
   "source": [
    "import sys\n",
    "sys.path.append('/home/ppxjd3/Code/')\n",
    "import Generic.filedialogs as filedialogs\n",
    "import Generic.video as video\n",
    "import Generic.images as images\n",
    "import ParticleTracking.preprocessing as preprocessing\n",
    "import ParticleTracking.tracking as tracking\n",
    "import numpy as np"
   ]
  },
  {
   "cell_type": "code",
   "execution_count": 2,
   "metadata": {},
   "outputs": [],
   "source": [
    "file = filedialogs.load_filename('Load a video')"
   ]
  },
  {
   "cell_type": "code",
   "execution_count": 3,
   "metadata": {},
   "outputs": [],
   "source": [
    "cap = video.ReadVideo(file)\n",
    "frame = cap.find_frame(20)"
   ]
  },
  {
   "cell_type": "code",
   "execution_count": 4,
   "metadata": {},
   "outputs": [],
   "source": [
    "images.display(frame)"
   ]
  },
  {
   "cell_type": "code",
   "execution_count": 11,
   "metadata": {},
   "outputs": [],
   "source": [
    "methods = ['flip' ,'threshold tozero', 'opening', '~adaptive threshold']\n",
    "\n",
    "options = {\n",
    "    'grayscale threshold': None,\n",
    "    'number of tray sides': 6,\n",
    "    'adaptive threshold block size': 101,\n",
    "    'adaptive threshold constant': 0,\n",
    "    'min_dist': 30,\n",
    "    'p_1': 200,\n",
    "    'p_2': 3,\n",
    "    'min_rad': 15,\n",
    "    'max_rad': 19,\n",
    "    'opening kernel': 23,\n",
    "    'max frame displacement': 25,\n",
    "    'min frame life': 10,\n",
    "    'memory':5,\n",
    "    'blur kernel': 21}"
   ]
  },
  {
   "cell_type": "code",
   "execution_count": 6,
   "metadata": {},
   "outputs": [],
   "source": [
    "ip = preprocessing.ImagePreprocessor(methods, options)\n"
   ]
  },
  {
   "cell_type": "code",
   "execution_count": 7,
   "metadata": {},
   "outputs": [],
   "source": [
    "ip.update_options(options, methods)\n",
    "new_frame, cropped_frame = ip.process_image(frame)\n",
    "images.display(new_frame)"
   ]
  },
  {
   "cell_type": "code",
   "execution_count": 12,
   "metadata": {},
   "outputs": [],
   "source": [
    "pt = tracking.ParticleTracker(file, options, methods, False, True, True)\n",
    "circles = pt.find_circles(new_frame)\n",
    "processed_frame = np.dstack((new_frame, new_frame, new_frame))"
   ]
  },
  {
   "cell_type": "code",
   "execution_count": 9,
   "metadata": {},
   "outputs": [],
   "source": [
    "circles_frame = images.draw_circles(processed_frame, circles, images.RED, thickness=3)\n",
    "images.display(circles_frame)"
   ]
  },
  {
   "cell_type": "code",
   "execution_count": 43,
   "metadata": {},
   "outputs": [],
   "source": [
    "circles_frame = images.draw_circles(cropped_frame, circles, images.RED, thickness=3)\n",
    "images.display(circles_frame)"
   ]
  },
  {
   "cell_type": "code",
   "execution_count": 13,
   "metadata": {},
   "outputs": [
    {
     "name": "stdout",
     "output_type": "stream",
     "text": [
      "Frame 479: 2569 trajectories present.\n",
      "saving cropped video\n"
     ]
    }
   ],
   "source": [
    "pt.track()"
   ]
  },
  {
   "cell_type": "code",
   "execution_count": null,
   "metadata": {},
   "outputs": [],
   "source": []
  }
 ],
 "metadata": {
  "kernelspec": {
   "display_name": "track",
   "language": "python",
   "name": "track"
  },
  "language_info": {
   "codemirror_mode": {
    "name": "ipython",
    "version": 3
   },
   "file_extension": ".py",
   "mimetype": "text/x-python",
   "name": "python",
   "nbconvert_exporter": "python",
   "pygments_lexer": "ipython3",
   "version": "3.6.7"
  }
 },
 "nbformat": 4,
 "nbformat_minor": 2
}

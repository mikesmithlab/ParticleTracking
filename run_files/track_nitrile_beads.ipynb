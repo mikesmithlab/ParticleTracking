{
 "cells": [
  {
   "cell_type": "code",
   "execution_count": 1,
   "metadata": {},
   "outputs": [],
   "source": [
    "import sys\n",
    "sys.path.append('/home/ppxjd3/Code/')\n",
    "import Generic.filedialogs as filedialogs\n",
    "import Generic.video as video\n",
    "import Generic.images as images\n",
    "import ParticleTracking.preprocessing as preprocessing\n",
    "import ParticleTracking.tracking as tracking\n",
    "import numpy as np"
   ]
  },
  {
   "cell_type": "code",
   "execution_count": 2,
   "metadata": {},
   "outputs": [],
   "source": [
    "file = filedialogs.load_filename('Load a video')"
   ]
  },
  {
   "cell_type": "code",
   "execution_count": 3,
   "metadata": {},
   "outputs": [],
   "source": [
    "cap = video.ReadVideo(file)\n",
    "frame = cap.read_next_frame()"
   ]
  },
  {
   "cell_type": "code",
   "execution_count": 4,
   "metadata": {},
   "outputs": [],
   "source": [
    "images.display(frame)"
   ]
  },
  {
   "cell_type": "code",
   "execution_count": 5,
   "metadata": {},
   "outputs": [],
   "source": [
    "methods = ['flip', '~adaptive threshold', '~blur', '~opening', '~erode', '~dilate', '~closing', '~distance','~simple threshold','threshold tozero']\n",
    "\n",
    "options = {\n",
    "    'grayscale threshold': 200,\n",
    "    'number of tray sides': 6,\n",
    "    'adaptive threshold block size': 51,\n",
    "    'adaptive threshold C': 0,\n",
    "    'min_dist': 26,\n",
    "    'p_1': 200,\n",
    "    'p_2': 6,\n",
    "    'min_rad': 15,\n",
    "    'max_rad': 19,\n",
    "    'opening kernel': 51,\n",
    "    'erode kernel': 25,\n",
    "    'closing kernel': 51,\n",
    "    'max frame displacement': 25,\n",
    "    'min frame life': 10,\n",
    "    'blur kernel': 21}"
   ]
  },
  {
   "cell_type": "code",
   "execution_count": 6,
   "metadata": {},
   "outputs": [],
   "source": [
    "ip = preprocessing.ImagePreprocessor(methods, options)\n"
   ]
  },
  {
   "cell_type": "code",
   "execution_count": 7,
   "metadata": {},
   "outputs": [],
   "source": [
    "ip.update_options(options, methods)\n",
    "new_frame, cropped_frame, _ = ip.process_image(frame)\n",
    "images.display(new_frame)"
   ]
  },
  {
   "cell_type": "code",
   "execution_count": 8,
   "metadata": {},
   "outputs": [],
   "source": [
    "pt = tracking.ParticleTracker(file, options, methods, True, True, True)\n",
    "circles = pt.find_circles(new_frame)\n",
    "processed_frame = np.dstack((new_frame, new_frame, new_frame))"
   ]
  },
  {
   "cell_type": "code",
   "execution_count": 12,
   "metadata": {},
   "outputs": [],
   "source": [
    "circles_frame = images.draw_circles(processed_frame, circles, images.RED, thickness=3)\n",
    "images.display(circles_frame)"
   ]
  },
  {
   "cell_type": "code",
   "execution_count": 10,
   "metadata": {},
   "outputs": [],
   "source": [
    "circles_frame = images.draw_circles(cropped_frame, circles, images.RED, thickness=3)\n",
    "images.display(circles_frame)"
   ]
  },
  {
   "cell_type": "code",
   "execution_count": 11,
   "metadata": {},
   "outputs": [
    {
     "name": "stdout",
     "output_type": "stream",
     "text": [
      "Frame 1287: 1953 trajectories present.\n"
     ]
    },
    {
     "name": "stderr",
     "output_type": "stream",
     "text": [
      "/home/ppxjd3/Code/ParticleTracking/tracking.py:227: PerformanceWarning: \n",
      "your performance may suffer as PyTables will pickle object types that it cannot\n",
      "map directly to c-types [inferred_type->mixed,key->block1_values] [items->['boundary']]\n",
      "\n",
      "  data_store.save_dataframe()\n"
     ]
    },
    {
     "name": "stdout",
     "output_type": "stream",
     "text": [
      "Video open for writing\n",
      "Video open for writing\n",
      "Video open for writing\n",
      "Video open for writing\n",
      "Video open for writing\n",
      "Video open for writing\n",
      "Video open for writing\n",
      "Video open for writing\n"
     ]
    }
   ],
   "source": [
    "pt.track()"
   ]
  },
  {
   "cell_type": "code",
   "execution_count": null,
   "metadata": {},
   "outputs": [],
   "source": [
    "out = cv2."
   ]
  }
 ],
 "metadata": {
  "kernelspec": {
   "display_name": "track",
   "language": "python",
   "name": "track"
  },
  "language_info": {
   "codemirror_mode": {
    "name": "ipython",
    "version": 3
   },
   "file_extension": ".py",
   "mimetype": "text/x-python",
   "name": "python",
   "nbconvert_exporter": "python",
   "pygments_lexer": "ipython3",
   "version": "3.6.6"
  }
 },
 "nbformat": 4,
 "nbformat_minor": 2
}
